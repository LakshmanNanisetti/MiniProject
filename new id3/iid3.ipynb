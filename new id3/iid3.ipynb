{
 "cells": [
  {
   "cell_type": "markdown",
   "metadata": {},
   "source": [
    "# Improved ID3 algorithm for clinical data classification"
   ]
  },
  {
   "cell_type": "code",
   "execution_count": 1,
   "metadata": {
    "collapsed": true
   },
   "outputs": [],
   "source": [
    "# Import the libraries used\n",
    "import unicodecsv\n",
    "from collections import defaultdict\n",
    "from math import cos,sqrt,log2"
   ]
  },
  {
   "cell_type": "code",
   "execution_count": 2,
   "metadata": {
    "collapsed": true
   },
   "outputs": [],
   "source": [
    "diagnosis = []\n",
    "f = open('bcw-des.csv', 'rb')\n",
    "reader = unicodecsv.DictReader(f)\n",
    "for row in reader:\n",
    "    diagnosis.append(row)\n",
    "f.close()"
   ]
  },
  {
   "cell_type": "code",
   "execution_count": 3,
   "metadata": {},
   "outputs": [
    {
     "name": "stdout",
     "output_type": "stream",
     "text": [
      "683\n"
     ]
    },
    {
     "data": {
      "text/plain": [
       "OrderedDict([('Clump Thickness', '1.0_5.0'),\n",
       "             ('Cell Size', '1.0_3.0'),\n",
       "             ('Cell Shape', '1.0_3.0'),\n",
       "             ('Marginal Adhesion', '1.0_3.0'),\n",
       "             ('Single Epithelial Cell Size', '1.0_2.0'),\n",
       "             ('Bare Nuclei', '1.0_3.0'),\n",
       "             ('Bland Chromatin', '1.0_3.0'),\n",
       "             ('Normal Nucleoli', '1.0_2.0'),\n",
       "             ('Mitoses', '1.0'),\n",
       "             ('Class', '2')])"
      ]
     },
     "execution_count": 3,
     "metadata": {},
     "output_type": "execute_result"
    }
   ],
   "source": [
    "# Length of read data set\n",
    "print(len(diagnosis))\n",
    "# A tuple in the data set \n",
    "diagnosis[0]"
   ]
  },
  {
   "cell_type": "code",
   "execution_count": 4,
   "metadata": {
    "collapsed": true
   },
   "outputs": [],
   "source": [
    "# Data Wrangling: If the tuple contains missing values remove that tuple\n",
    "def check(data):\n",
    "    for v in data.values():\n",
    "        if v=='?':\n",
    "            return False\n",
    "    return True"
   ]
  },
  {
   "cell_type": "code",
   "execution_count": 5,
   "metadata": {
    "collapsed": true
   },
   "outputs": [],
   "source": [
    "# clean the data and store it in the cleanedData variable\n",
    "cleanedData=[]\n",
    "for diag in diagnosis:\n",
    "    if check(diag):\n",
    "        cleanedData.append(diag)\n",
    "    "
   ]
  },
  {
   "cell_type": "code",
   "execution_count": 45,
   "metadata": {
    "collapsed": true
   },
   "outputs": [],
   "source": [
    "# Node in a ID3 tree\n",
    "class Node:\n",
    "    def __init__(self,testAttr,predictedClass):\n",
    "        self.testAttr=testAttr\n",
    "        self.predictedClass=predictedClass\n",
    "        self.children={}\n",
    "    def __str__(self):\n",
    "        return self.testAttr\n",
    "    def childFill(self,trainData):\n",
    "        for k,v in self.children.items():\n",
    "            if v.testAttr=='' and v.predictedClass == '':\n",
    "                classCount = defaultdict(int)\n",
    "                for ex in trainData:\n",
    "                    if ex[testAttr] == k:\n",
    "                        classCount[ex[className]] += 1\n",
    "                vals = list(classCount.values())\n",
    "                clss = lsit(classCount.keys())\n",
    "                self.children[k] = Node('',clss[vals.index(max( vals))])\n",
    "def getChild(n,curAttVal,trainData):\n",
    "    classCount = defauldict(int)\n",
    "    for ex in trainData:\n",
    "        if ex[testAttr] == curAttVal:\n",
    "            classCount[ex[className]] += 1\n",
    "            vals = list(classCount.values())\n",
    "            clss = list(classCount.keys())\n",
    "            return Node('',clss[vals.index(max( vals))])\n",
    "def printTree(n):\n",
    "    print(n)\n",
    "    if not isinstance(n,Node) or len(n.children)==0:\n",
    "        return\n",
    "    print('children are:')\n",
    "    for k,v in n.children.items():\n",
    "        print(k,v)\n",
    "    for v in n.children.values():\n",
    "        printTree(v)"
   ]
  },
  {
   "cell_type": "code",
   "execution_count": 46,
   "metadata": {
    "collapsed": true
   },
   "outputs": [],
   "source": [
    "# Import breastAttr.txt into breastAttr\n",
    "# The breastAttr contains attributes in the data set and their possible values\n",
    "with open('bcw-datt.txt','r') as f:\n",
    "    breastAttr=f.read()\n",
    "s=breastAttr.split('\\n')"
   ]
  },
  {
   "cell_type": "code",
   "execution_count": 47,
   "metadata": {},
   "outputs": [
    {
     "data": {
      "text/plain": [
       "{'Bare Nuclei': ['1.0_3.0', '4.0_10.0'],\n",
       " 'Bland Chromatin': ['1.0_3.0', '4.0_10.0'],\n",
       " 'Cell Shape': ['1.0_3.0', '4.0_10.0'],\n",
       " 'Cell Size': ['1.0_3.0', '4.0_10.0'],\n",
       " 'Class': ['2', '4'],\n",
       " 'Clump Thickness': ['1.0_5.0', '6.0_10.0'],\n",
       " 'Marginal Adhesion': ['1.0_3.0', '4.0_10.0'],\n",
       " 'Mitoses': ['1.0', '2.0_8.0_10.0'],\n",
       " 'Normal Nucleoli': ['1.0_2.0', '3.0_10.0'],\n",
       " 'Single Epithelial Cell Size': ['1.0_2.0', '3.0_10.0']}"
      ]
     },
     "execution_count": 47,
     "metadata": {},
     "output_type": "execute_result"
    }
   ],
   "source": [
    "# possVals is a dictionary containing attrname and its possible values\n",
    "possVals={}\n",
    "for line in s:\n",
    "    temp=line.split(':')\n",
    "    possVals[temp[0]]=temp[1].split(',')\n",
    "possVals"
   ]
  },
  {
   "cell_type": "code",
   "execution_count": 48,
   "metadata": {
    "collapsed": true
   },
   "outputs": [],
   "source": [
    "# From breastClass get the classes present and their respective values\n",
    "possClassValues=[]\n",
    "with open('bcw-catt.txt','r') as f:\n",
    "    breastClass=f.read()\n",
    "classLine=breastClass.split(':')\n",
    "className = classLine[0]\n",
    "possClassValues = classLine[1].split(',')\n"
   ]
  },
  {
   "cell_type": "code",
   "execution_count": 49,
   "metadata": {},
   "outputs": [
    {
     "name": "stdout",
     "output_type": "stream",
     "text": [
      "['2', '4'] Class\n"
     ]
    }
   ],
   "source": [
    "print(possClassValues,className)"
   ]
  },
  {
   "cell_type": "code",
   "execution_count": 50,
   "metadata": {
    "collapsed": true
   },
   "outputs": [],
   "source": [
    "# Balance function which decides on which attribute the node should split the tree\n",
    "def entropy(edata):\n",
    "    temp = defaultdict(int)\n",
    "    for eavpair in edata:\n",
    "        temp[eavpair[className]]+=1\n",
    "    en = len(edata)\n",
    "    e=1\n",
    "    for epv in temp.values():\n",
    "        e*=(epv/en)*log2(epv/en)\n",
    "    return e"
   ]
  },
  {
   "cell_type": "code",
   "execution_count": 34,
   "metadata": {
    "collapsed": true
   },
   "outputs": [],
   "source": [
    "# IID3 improvisation: balance function to reduce multivariate splits\n",
    "def balance(attrLen,imp = False):\n",
    "    if not imp:\n",
    "        return 1\n",
    "    ans=cos(3.5*attrLen-1.5)/1.8\n",
    "    ans*=log2(sqrt(attrLen+1))\n",
    "    return abs(ans)"
   ]
  },
  {
   "cell_type": "code",
   "execution_count": 54,
   "metadata": {
    "collapsed": true
   },
   "outputs": [],
   "source": [
    "# The Improved ID3 algorithm written here as train\n",
    "# The algorithm return the root of the tree\n",
    "def train(trainData,attributes):\n",
    "    e = entropy(trainData)\n",
    "    if e==0:\n",
    "        return Node('',trainData[0][className])\n",
    "    if len(attributes) == 0:\n",
    "        classCount = defaultdict(int)\n",
    "        for ex in trainData:\n",
    "            classCount[ex[className]] += 1\n",
    "        maxClass= possClassValues[0]\n",
    "        maxCount= classCount[maxClass]\n",
    "        for k,v in classCount.items():\n",
    "            if maxCount<v:\n",
    "                maxCount = v\n",
    "                maxClass = k\n",
    "        return Node('',maxClass)\n",
    "    info = {}\n",
    "    gain = {}\n",
    "    n = len(trainData)\n",
    "    for attr in attributes:\n",
    "        attrVals = possVals[attr]\n",
    "        attrTrainData = {}\n",
    "        attrTrainData = defaultdict(list)\n",
    "        for avpair in trainData:\n",
    "            attrTrainData[avpair[attr]].append(avpair)\n",
    "        info[attr] = 1\n",
    "        for attrVal in attrTrainData.values():\n",
    "            info[attr] += (len(attrVal)/n)*entropy(attrVal)\n",
    "            gain[attr] = (e-info[attr])/balance(len(attrVals),imp = True)\n",
    "    maxAttr = attributes[0]\n",
    "    maxGain = gain[maxAttr]\n",
    "    for k,v in gain.items():\n",
    "        if maxGain < v:\n",
    "            maxGain = v\n",
    "            maxAttr = k\n",
    "    n=Node(maxAttr,'')\n",
    "    splitTrainData = defaultdict(list)\n",
    "    for ex in trainData:\n",
    "        splitTrainData[ex[maxAttr]].append(ex)\n",
    "    newAttrs = attributes[:]\n",
    "    newAttrs.remove(maxAttr)\n",
    "    for splitAttrVal, splitData in splitTrainData.items():\n",
    "        if len(splitData)==0:\n",
    "            print('entereed')\n",
    "            n.children[splitAttrVal] = getChild(n, splitAttrVal, trainData)\n",
    "        else:    \n",
    "            n.children[splitAttrVal]=train(splitData,newAttrs)\n",
    "#     n.childFill(trainData)\n",
    "    return"
   ]
  },
  {
   "cell_type": "code",
   "execution_count": 57,
   "metadata": {},
   "outputs": [
    {
     "name": "stdout",
     "output_type": "stream",
     "text": [
      "546 683\n"
     ]
    }
   ],
   "source": [
    "import numpy as np\n",
    "size = len(cleanedData)\n",
    "trainSize = 4*size//5\n",
    "print(trainSize,size)\n",
    "cleanedData = np.random.permutation(cleanedData)\n",
    "n=train(cleanedData[:trainSize],list(possVals.keys()))"
   ]
  },
  {
   "cell_type": "code",
   "execution_count": 56,
   "metadata": {
    "collapsed": true
   },
   "outputs": [],
   "source": [
    "# Testing function to check the accuracy of the algorithm\n",
    "def testing1(n,trainData):\n",
    "    ab=0\n",
    "    x=0\n",
    "    for ex in trainData:\n",
    "        p=n\n",
    "        try:\n",
    "            while p.testAttr!='':\n",
    "                child=ex[p.testAttr]\n",
    "                p=p.children[child]\n",
    "#             print(p.predictedClass,ex[className])\n",
    "            if p.predictedClass==ex[className]:\n",
    "                x+=1\n",
    "        except:\n",
    "            ab+=1\n",
    "    return x,ab"
   ]
  },
  {
   "cell_type": "code",
   "execution_count": 43,
   "metadata": {
    "collapsed": true,
    "scrolled": false
   },
   "outputs": [],
   "source": [
    "cor,incor=testing1(n,cleanedData[trainSize+1:])"
   ]
  },
  {
   "cell_type": "code",
   "execution_count": 44,
   "metadata": {},
   "outputs": [
    {
     "name": "stdout",
     "output_type": "stream",
     "text": [
      "accuracy=0.0\n"
     ]
    }
   ],
   "source": [
    "print('accuracy={0}'.format(cor/136*100))"
   ]
  },
  {
   "cell_type": "code",
   "execution_count": 41,
   "metadata": {},
   "outputs": [
    {
     "name": "stdout",
     "output_type": "stream",
     "text": [
      "Class\n",
      "children are:\n",
      "4 \n",
      "2 \n",
      "\n",
      "\n"
     ]
    }
   ],
   "source": [
    "printTree(n)"
   ]
  },
  {
   "cell_type": "code",
   "execution_count": null,
   "metadata": {
    "collapsed": true
   },
   "outputs": [],
   "source": []
  }
 ],
 "metadata": {
  "kernelspec": {
   "display_name": "Python 3",
   "language": "python",
   "name": "python3"
  },
  "language_info": {
   "codemirror_mode": {
    "name": "ipython",
    "version": 3
   },
   "file_extension": ".py",
   "mimetype": "text/x-python",
   "name": "python",
   "nbconvert_exporter": "python",
   "pygments_lexer": "ipython3",
   "version": "3.6.3"
  }
 },
 "nbformat": 4,
 "nbformat_minor": 2
}
