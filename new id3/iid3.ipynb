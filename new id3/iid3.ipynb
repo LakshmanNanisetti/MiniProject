{
 "cells": [
  {
   "cell_type": "markdown",
   "metadata": {},
   "source": [
    "# Improved ID3 algorithm for clinical data classification"
   ]
  },
  {
   "cell_type": "code",
   "execution_count": 110,
   "metadata": {
    "collapsed": true
   },
   "outputs": [],
   "source": [
    "# Import the libraries used\n",
    "import unicodecsv\n",
    "from collections import defaultdict\n",
    "from math import cos,sqrt,log2"
   ]
  },
  {
   "cell_type": "code",
   "execution_count": 111,
   "metadata": {
    "collapsed": true
   },
   "outputs": [],
   "source": [
    "# Read the data set into reader\n",
    "with open('diagnosis.csv', 'rb') as f:\n",
    "    reader = unicodecsv.DictReader(f)"
   ]
  },
  {
   "cell_type": "code",
   "execution_count": 112,
   "metadata": {
    "collapsed": true
   },
   "outputs": [],
   "source": [
    "diagnosis = []\n",
    "f = open('breast.csv', 'rb')\n",
    "reader = unicodecsv.DictReader(f)\n",
    "for row in reader:\n",
    "    diagnosis.append(row)\n",
    "f.close()"
   ]
  },
  {
   "cell_type": "code",
   "execution_count": 113,
   "metadata": {},
   "outputs": [
    {
     "name": "stdout",
     "output_type": "stream",
     "text": [
      "699\n"
     ]
    },
    {
     "data": {
      "text/plain": [
       "OrderedDict([('id', '1000025'),\n",
       "             ('clump', '5'),\n",
       "             ('size', '1'),\n",
       "             ('shape', '1'),\n",
       "             ('adhesion', '1'),\n",
       "             ('epithelial', '2'),\n",
       "             ('barenuclei', '1'),\n",
       "             ('bland', '3'),\n",
       "             ('normal', '1'),\n",
       "             ('mitoses', '1'),\n",
       "             ('class', '2')])"
      ]
     },
     "execution_count": 113,
     "metadata": {},
     "output_type": "execute_result"
    }
   ],
   "source": [
    "# Length of read data set\n",
    "print(len(diagnosis))\n",
    "# A tuple in the data set \n",
    "diagnosis[0]"
   ]
  },
  {
   "cell_type": "code",
   "execution_count": 114,
   "metadata": {
    "collapsed": true
   },
   "outputs": [],
   "source": [
    "# Data Wrangling: If the tuple contains missing values remove that tuple\n",
    "def check(data):\n",
    "    for v in data.values():\n",
    "        if v=='?':\n",
    "            return False\n",
    "    return True"
   ]
  },
  {
   "cell_type": "code",
   "execution_count": 115,
   "metadata": {
    "collapsed": true
   },
   "outputs": [],
   "source": [
    "# clean the data and store it in the cleanedData variable\n",
    "cleanedData=[]\n",
    "for diag in diagnosis:\n",
    "    if check(diag):\n",
    "        diag.pop('id')\n",
    "        cleanedData.append(diag)\n",
    "    "
   ]
  },
  {
   "cell_type": "code",
   "execution_count": 116,
   "metadata": {
    "collapsed": true
   },
   "outputs": [],
   "source": [
    "# Node in a ID3 tree\n",
    "class Node:\n",
    "    def __init__(self,testAttr,predictedClass):\n",
    "        self.testAttr=testAttr\n",
    "        self.predictedClass=predictedClass\n",
    "        self.children={}\n",
    "    def __str__(self):\n",
    "        return self.testAttr\n",
    "def printTree(n):\n",
    "    print(n)\n",
    "    if len(n.children)==0:\n",
    "        return\n",
    "    print('children are:')\n",
    "    for k,v in n.children.items():\n",
    "        print(k,v)\n",
    "    for v in n.children.values():\n",
    "        printTree(v)"
   ]
  },
  {
   "cell_type": "code",
   "execution_count": 117,
   "metadata": {
    "collapsed": true
   },
   "outputs": [],
   "source": [
    "# Import breastAttr.txt into breastAttr\n",
    "# The breastAttr contains attributes in the data set and their possible values\n",
    "with open('breastAttr.txt','r') as f:\n",
    "    breastAttr=f.read()\n",
    "s=breastAttr.split('\\n')"
   ]
  },
  {
   "cell_type": "code",
   "execution_count": 118,
   "metadata": {},
   "outputs": [
    {
     "data": {
      "text/plain": [
       "{'adhesion': ['1', '2', '3', '4', '5', '6', '7', '8', '9', '10'],\n",
       " 'barenuclei': ['1', '2', '3', '4', '5', '6', '7', '8', '9', '10'],\n",
       " 'bland': ['1', '2', '3', '4', '5', '6', '7', '8', '9', '10'],\n",
       " 'clump': ['1', '2', '3', '4', '5', '6', '7', '8', '9', '10'],\n",
       " 'epithelial': ['1', '2', '3', '4', '5', '6', '7', '8', '9', '10'],\n",
       " 'mitoses': ['1', '2', '3', '4', '5', '6', '7', '8', '9', '10'],\n",
       " 'normal': ['1', '2', '3', '4', '5', '6', '7', '8', '9', '10'],\n",
       " 'shape': ['1', '2', '3', '4', '5', '6', '7', '8', '9', '10'],\n",
       " 'size': ['1', '2', '3', '4', '5', '6', '7', '8', '9', '10']}"
      ]
     },
     "execution_count": 118,
     "metadata": {},
     "output_type": "execute_result"
    }
   ],
   "source": [
    "# possVals is a dictionary containing attrname and its possible values\n",
    "possVals={}\n",
    "for line in s:\n",
    "    temp=line.split(' ')\n",
    "    possVals[temp[0]]=temp[1].split(',')\n",
    "possVals"
   ]
  },
  {
   "cell_type": "code",
   "execution_count": 119,
   "metadata": {
    "collapsed": true
   },
   "outputs": [],
   "source": [
    "# From breastClass get the classes present and their respective values\n",
    "possClassValues=[]\n",
    "with open('breastClass.txt','r') as f:\n",
    "    breastClass=f.read()\n",
    "classLine=breastClass.split(' ')\n",
    "className = classLine[0]\n",
    "possClassValues = classLine[1].split(',')\n"
   ]
  },
  {
   "cell_type": "code",
   "execution_count": 120,
   "metadata": {},
   "outputs": [
    {
     "name": "stdout",
     "output_type": "stream",
     "text": [
      "['2', '4'] class\n"
     ]
    }
   ],
   "source": [
    "print(possClassValues,className)"
   ]
  },
  {
   "cell_type": "code",
   "execution_count": 121,
   "metadata": {
    "collapsed": true
   },
   "outputs": [],
   "source": [
    "# Balance function which decides on which attribute the node should split the tree\n",
    "def entropy(edata):\n",
    "    temp = defaultdict(int)\n",
    "    for eavpair in edata:\n",
    "        temp[eavpair[className]]+=1\n",
    "    en = len(edata)\n",
    "    e=1\n",
    "    for epv in temp.values():\n",
    "        e*=(epv/en)*log2(epv/en)\n",
    "    return e"
   ]
  },
  {
   "cell_type": "code",
   "execution_count": 122,
   "metadata": {
    "collapsed": true
   },
   "outputs": [],
   "source": [
    "# IID3 improvisation: balance function to reduce multivariate splits\n",
    "def balance(attrLen):\n",
    "    ans=cos(3.5*attrLen-1.5)/1.8\n",
    "    ans*=log2(sqrt(attrLen+1))\n",
    "    return abs(ans)"
   ]
  },
  {
   "cell_type": "code",
   "execution_count": 123,
   "metadata": {
    "collapsed": true
   },
   "outputs": [],
   "source": [
    "# The Improved ID3 algorithm written here as train\n",
    "# The algorithm return the root of the tree\n",
    "def train(trainData,attributes):\n",
    "    e = entropy(trainData)\n",
    "    if e==0:\n",
    "        return Node('',trainData[0][className])\n",
    "    if len(attributes) == 0:\n",
    "        classCount = defaultdict(int)\n",
    "        for ex in trainData:\n",
    "            classCount[ex[className]] += 1\n",
    "        maxClass= possClassValues[0]\n",
    "        maxCount= classCount[maxClass]\n",
    "        for k,v in classCount.items():\n",
    "            if maxCount<v:\n",
    "                maxCount = v\n",
    "                maxClass = k\n",
    "        return Node('',maxClass)\n",
    "    info = {}\n",
    "    gain = {}\n",
    "    n = len(trainData)\n",
    "    for attr in attributes:\n",
    "        attrVals = possVals[attr]\n",
    "        attrTrainData = {}\n",
    "        attrTrainData = defaultdict(list)\n",
    "        for avpair in trainData:\n",
    "            attrTrainData[avpair[attr]].append(avpair)\n",
    "        info[attr] = 1\n",
    "        for attrVal in attrTrainData.values():\n",
    "            info[attr] += (len(attrVal)/n)*entropy(attrVal)\n",
    "            gain[attr] = (e-info[attr])/balance(len(attrVals))\n",
    "    maxAttr = attributes[0]\n",
    "    maxGain = gain[maxAttr]\n",
    "    for k,v in gain.items():\n",
    "        if maxGain < v:\n",
    "            maxGain = v\n",
    "            maxAttr = k\n",
    "    n=Node(maxAttr,'')\n",
    "    splitTrainData = defaultdict(list)\n",
    "    for ex in trainData:\n",
    "        splitTrainData[ex[maxAttr]].append(ex)\n",
    "    newAttrs = attributes[:]\n",
    "    newAttrs.remove(maxAttr)\n",
    "    for splitAttrVal, splitData in splitTrainData.items():\n",
    "        n.children[splitAttrVal]=train(splitData,newAttrs)\n",
    "    return n"
   ]
  },
  {
   "cell_type": "code",
   "execution_count": 124,
   "metadata": {
    "collapsed": true
   },
   "outputs": [],
   "source": [
    "n=train(cleanedData[136:],list(possVals.keys()))"
   ]
  },
  {
   "cell_type": "code",
   "execution_count": 125,
   "metadata": {},
   "outputs": [],
   "source": [
    "# Testing function to check the accuracy of the algorithm\n",
    "def testing1(n,trainData):\n",
    "    ab=0\n",
    "    x=0\n",
    "    for ex in trainData:\n",
    "        p=n\n",
    "        try:\n",
    "            while p.testAttr!='':\n",
    "                child=ex[p.testAttr]\n",
    "                p=p.children[child]\n",
    "            print(p.predictedClass,ex[className])\n",
    "            if p.predictedClass==ex[className]:\n",
    "                x+=1\n",
    "        except:\n",
    "            ab+=1\n",
    "    return x,ab"
   ]
  },
  {
   "cell_type": "code",
   "execution_count": 126,
   "metadata": {},
   "outputs": [
    {
     "name": "stdout",
     "output_type": "stream",
     "text": [
      "2 2\n",
      "4 2\n",
      "2 2\n",
      "4 2\n",
      "2 2\n",
      "4 4\n",
      "2 2\n",
      "2 2\n",
      "2 2\n",
      "2 2\n",
      "2 2\n",
      "4 4\n",
      "2 2\n",
      "2 2\n",
      "2 2\n",
      "4 4\n",
      "2 2\n",
      "4 4\n",
      "2 2\n",
      "2 2\n",
      "2 2\n",
      "2 2\n",
      "2 2\n",
      "2 2\n",
      "2 2\n",
      "2 2\n",
      "4 4\n",
      "2 2\n",
      "2 2\n",
      "2 2\n",
      "4 4\n",
      "2 2\n",
      "4 4\n",
      "4 4\n",
      "2 4\n",
      "4 4\n",
      "4 4\n",
      "4 4\n",
      "2 2\n",
      "2 2\n",
      "2 2\n",
      "4 4\n",
      "4 4\n",
      "4 4\n",
      "2 4\n",
      "4 4\n",
      "4 4\n",
      "4 4\n",
      "4 4\n",
      "2 4\n",
      "4 4\n",
      "4 4\n",
      "4 4\n",
      "2 2\n",
      "4 4\n",
      "2 4\n",
      "2 2\n",
      "2 2\n",
      "4 4\n",
      "2 2\n",
      "2 2\n",
      "4 4\n",
      "2 2\n",
      "4 4\n",
      "4 4\n",
      "2 2\n",
      "2 2\n",
      "2 2\n",
      "2 2\n",
      "2 2\n",
      "2 2\n",
      "2 2\n",
      "2 2\n",
      "4 4\n",
      "4 4\n",
      "4 4\n",
      "2 2\n",
      "2 2\n",
      "2 2\n",
      "2 2\n",
      "2 2\n",
      "2 2\n",
      "2 2\n",
      "2 2\n",
      "2 2\n",
      "2 2\n",
      "4 4\n",
      "4 4\n",
      "2 4\n",
      "2 4\n",
      "2 2\n",
      "2 4\n",
      "4 4\n",
      "4 4\n",
      "4 4\n",
      "2 2\n",
      "4 4\n",
      "2 2\n",
      "4 4\n",
      "4 4\n",
      "4 4\n",
      "2 2\n",
      "2 2\n",
      "2 2\n",
      "4 4\n",
      "2 2\n",
      "2 2\n",
      "2 2\n",
      "2 2\n",
      "4 4\n",
      "4 4\n",
      "2 2\n",
      "4 4\n",
      "2 2\n",
      "4 4\n",
      "2 2\n",
      "2 2\n",
      "2 2\n",
      "4 4\n",
      "2 2\n",
      "2 2\n",
      "2 2\n",
      "2 2\n",
      "2 2\n"
     ]
    }
   ],
   "source": [
    "x=testing1(n,cleanedData[:136])"
   ]
  }
 ],
 "metadata": {
  "kernelspec": {
   "display_name": "Python 3",
   "language": "python",
   "name": "python3"
  },
  "language_info": {
   "codemirror_mode": {
    "name": "ipython",
    "version": 3
   },
   "file_extension": ".py",
   "mimetype": "text/x-python",
   "name": "python",
   "nbconvert_exporter": "python",
   "pygments_lexer": "ipython3",
   "version": "3.6.3"
  }
 },
 "nbformat": 4,
 "nbformat_minor": 2
}
