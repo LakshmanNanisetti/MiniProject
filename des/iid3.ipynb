{
 "cells": [
  {
   "cell_type": "code",
   "execution_count": 1,
   "metadata": {
    "collapsed": true
   },
   "outputs": [],
   "source": [
    "import unicodecsv"
   ]
  },
  {
   "cell_type": "code",
   "execution_count": 2,
   "metadata": {
    "collapsed": true
   },
   "outputs": [],
   "source": [
    "with open('diagnosis.csv', 'rb') as f:\n",
    "    reader = unicodecsv.DictReader(f)"
   ]
  },
  {
   "cell_type": "code",
   "execution_count": 163,
   "metadata": {},
   "outputs": [
    {
     "ename": "ValueError",
     "evalue": "readline of closed file",
     "output_type": "error",
     "traceback": [
      "\u001b[1;31m---------------------------------------------------------------------------\u001b[0m",
      "\u001b[1;31mValueError\u001b[0m                                Traceback (most recent call last)",
      "\u001b[1;32m<ipython-input-163-ce1aab4c52ff>\u001b[0m in \u001b[0;36m<module>\u001b[1;34m()\u001b[0m\n\u001b[1;32m----> 1\u001b[1;33m \u001b[1;32mfor\u001b[0m \u001b[0meach\u001b[0m \u001b[1;32min\u001b[0m \u001b[0mreader\u001b[0m\u001b[1;33m:\u001b[0m\u001b[1;33m\u001b[0m\u001b[0m\n\u001b[0m\u001b[0;32m      2\u001b[0m     \u001b[0mprint\u001b[0m\u001b[1;33m(\u001b[0m\u001b[0meach\u001b[0m\u001b[1;33m)\u001b[0m\u001b[1;33m\u001b[0m\u001b[0m\n",
      "\u001b[1;32m~\\Anaconda3\\lib\\csv.py\u001b[0m in \u001b[0;36m__next__\u001b[1;34m(self)\u001b[0m\n\u001b[0;32m    109\u001b[0m         \u001b[1;32mif\u001b[0m \u001b[0mself\u001b[0m\u001b[1;33m.\u001b[0m\u001b[0mline_num\u001b[0m \u001b[1;33m==\u001b[0m \u001b[1;36m0\u001b[0m\u001b[1;33m:\u001b[0m\u001b[1;33m\u001b[0m\u001b[0m\n\u001b[0;32m    110\u001b[0m             \u001b[1;31m# Used only for its side effect.\u001b[0m\u001b[1;33m\u001b[0m\u001b[1;33m\u001b[0m\u001b[0m\n\u001b[1;32m--> 111\u001b[1;33m             \u001b[0mself\u001b[0m\u001b[1;33m.\u001b[0m\u001b[0mfieldnames\u001b[0m\u001b[1;33m\u001b[0m\u001b[0m\n\u001b[0m\u001b[0;32m    112\u001b[0m         \u001b[0mrow\u001b[0m \u001b[1;33m=\u001b[0m \u001b[0mnext\u001b[0m\u001b[1;33m(\u001b[0m\u001b[0mself\u001b[0m\u001b[1;33m.\u001b[0m\u001b[0mreader\u001b[0m\u001b[1;33m)\u001b[0m\u001b[1;33m\u001b[0m\u001b[0m\n\u001b[0;32m    113\u001b[0m         \u001b[0mself\u001b[0m\u001b[1;33m.\u001b[0m\u001b[0mline_num\u001b[0m \u001b[1;33m=\u001b[0m \u001b[0mself\u001b[0m\u001b[1;33m.\u001b[0m\u001b[0mreader\u001b[0m\u001b[1;33m.\u001b[0m\u001b[0mline_num\u001b[0m\u001b[1;33m\u001b[0m\u001b[0m\n",
      "\u001b[1;32m~\\Anaconda3\\lib\\csv.py\u001b[0m in \u001b[0;36mfieldnames\u001b[1;34m(self)\u001b[0m\n\u001b[0;32m     96\u001b[0m         \u001b[1;32mif\u001b[0m \u001b[0mself\u001b[0m\u001b[1;33m.\u001b[0m\u001b[0m_fieldnames\u001b[0m \u001b[1;32mis\u001b[0m \u001b[1;32mNone\u001b[0m\u001b[1;33m:\u001b[0m\u001b[1;33m\u001b[0m\u001b[0m\n\u001b[0;32m     97\u001b[0m             \u001b[1;32mtry\u001b[0m\u001b[1;33m:\u001b[0m\u001b[1;33m\u001b[0m\u001b[0m\n\u001b[1;32m---> 98\u001b[1;33m                 \u001b[0mself\u001b[0m\u001b[1;33m.\u001b[0m\u001b[0m_fieldnames\u001b[0m \u001b[1;33m=\u001b[0m \u001b[0mnext\u001b[0m\u001b[1;33m(\u001b[0m\u001b[0mself\u001b[0m\u001b[1;33m.\u001b[0m\u001b[0mreader\u001b[0m\u001b[1;33m)\u001b[0m\u001b[1;33m\u001b[0m\u001b[0m\n\u001b[0m\u001b[0;32m     99\u001b[0m             \u001b[1;32mexcept\u001b[0m \u001b[0mStopIteration\u001b[0m\u001b[1;33m:\u001b[0m\u001b[1;33m\u001b[0m\u001b[0m\n\u001b[0;32m    100\u001b[0m                 \u001b[1;32mpass\u001b[0m\u001b[1;33m\u001b[0m\u001b[0m\n",
      "\u001b[1;32m~\\Anaconda3\\lib\\site-packages\\unicodecsv\\py3.py\u001b[0m in \u001b[0;36m__next__\u001b[1;34m(self)\u001b[0m\n\u001b[0;32m     53\u001b[0m \u001b[1;33m\u001b[0m\u001b[0m\n\u001b[0;32m     54\u001b[0m     \u001b[1;32mdef\u001b[0m \u001b[0m__next__\u001b[0m\u001b[1;33m(\u001b[0m\u001b[0mself\u001b[0m\u001b[1;33m)\u001b[0m\u001b[1;33m:\u001b[0m\u001b[1;33m\u001b[0m\u001b[0m\n\u001b[1;32m---> 55\u001b[1;33m         \u001b[1;32mreturn\u001b[0m \u001b[0mself\u001b[0m\u001b[1;33m.\u001b[0m\u001b[0mreader\u001b[0m\u001b[1;33m.\u001b[0m\u001b[0m__next__\u001b[0m\u001b[1;33m(\u001b[0m\u001b[1;33m)\u001b[0m\u001b[1;33m\u001b[0m\u001b[0m\n\u001b[0m\u001b[0;32m     56\u001b[0m \u001b[1;33m\u001b[0m\u001b[0m\n\u001b[0;32m     57\u001b[0m     \u001b[1;32mdef\u001b[0m \u001b[0m__iter__\u001b[0m\u001b[1;33m(\u001b[0m\u001b[0mself\u001b[0m\u001b[1;33m)\u001b[0m\u001b[1;33m:\u001b[0m\u001b[1;33m\u001b[0m\u001b[0m\n",
      "\u001b[1;32m~\\Anaconda3\\lib\\site-packages\\unicodecsv\\py3.py\u001b[0m in \u001b[0;36m<genexpr>\u001b[1;34m(.0)\u001b[0m\n\u001b[0;32m     49\u001b[0m                 \u001b[0mdialect\u001b[0m \u001b[1;33m=\u001b[0m \u001b[0mcsv\u001b[0m\u001b[1;33m.\u001b[0m\u001b[0mexcel\u001b[0m\u001b[1;33m\u001b[0m\u001b[0m\n\u001b[0;32m     50\u001b[0m \u001b[1;33m\u001b[0m\u001b[0m\n\u001b[1;32m---> 51\u001b[1;33m         \u001b[0mf\u001b[0m \u001b[1;33m=\u001b[0m \u001b[1;33m(\u001b[0m\u001b[0mbs\u001b[0m\u001b[1;33m.\u001b[0m\u001b[0mdecode\u001b[0m\u001b[1;33m(\u001b[0m\u001b[0mencoding\u001b[0m\u001b[1;33m,\u001b[0m \u001b[0merrors\u001b[0m\u001b[1;33m=\u001b[0m\u001b[0merrors\u001b[0m\u001b[1;33m)\u001b[0m \u001b[1;32mfor\u001b[0m \u001b[0mbs\u001b[0m \u001b[1;32min\u001b[0m \u001b[0mf\u001b[0m\u001b[1;33m)\u001b[0m\u001b[1;33m\u001b[0m\u001b[0m\n\u001b[0m\u001b[0;32m     52\u001b[0m         \u001b[0mself\u001b[0m\u001b[1;33m.\u001b[0m\u001b[0mreader\u001b[0m \u001b[1;33m=\u001b[0m \u001b[0mcsv\u001b[0m\u001b[1;33m.\u001b[0m\u001b[0mreader\u001b[0m\u001b[1;33m(\u001b[0m\u001b[0mf\u001b[0m\u001b[1;33m,\u001b[0m \u001b[0mdialect\u001b[0m\u001b[1;33m,\u001b[0m \u001b[1;33m**\u001b[0m\u001b[0mkwds\u001b[0m\u001b[1;33m)\u001b[0m\u001b[1;33m\u001b[0m\u001b[0m\n\u001b[0;32m     53\u001b[0m \u001b[1;33m\u001b[0m\u001b[0m\n",
      "\u001b[1;31mValueError\u001b[0m: readline of closed file"
     ]
    }
   ],
   "source": [
    "for each in reader:\n",
    "    print(each)"
   ]
  },
  {
   "cell_type": "code",
   "execution_count": 3,
   "metadata": {
    "collapsed": true
   },
   "outputs": [],
   "source": [
    "diagnosis = []\n",
    "f = open('breast.csv', 'rb')\n",
    "reader = unicodecsv.DictReader(f)\n",
    "for row in reader:\n",
    "    diagnosis.append(row)\n",
    "f.close()"
   ]
  },
  {
   "cell_type": "code",
   "execution_count": 4,
   "metadata": {},
   "outputs": [
    {
     "name": "stdout",
     "output_type": "stream",
     "text": [
      "699\n"
     ]
    },
    {
     "data": {
      "text/plain": [
       "OrderedDict([('id', '1057013'),\n",
       "             ('clump', '8'),\n",
       "             ('size', '4'),\n",
       "             ('shape', '5'),\n",
       "             ('adhesion', '1'),\n",
       "             ('epithelial', '2'),\n",
       "             ('barenuclei', '?'),\n",
       "             ('bland', '7'),\n",
       "             ('normal', '3'),\n",
       "             ('mitoses', '1'),\n",
       "             ('class', '4')])"
      ]
     },
     "execution_count": 4,
     "metadata": {},
     "output_type": "execute_result"
    }
   ],
   "source": [
    "print(len(diagnosis))\n",
    "diagnosis[23]"
   ]
  },
  {
   "cell_type": "code",
   "execution_count": 5,
   "metadata": {
    "collapsed": true
   },
   "outputs": [],
   "source": [
    "def check(data):\n",
    "    for v in data.values():\n",
    "        if v=='?':\n",
    "            return False\n",
    "    return True"
   ]
  },
  {
   "cell_type": "code",
   "execution_count": 6,
   "metadata": {
    "collapsed": true
   },
   "outputs": [],
   "source": [
    "cleanedData=[]\n",
    "for diag in diagnosis:\n",
    "    if check(diag):\n",
    "        diag.pop('id')\n",
    "        cleanedData.append(diag)\n",
    "    "
   ]
  },
  {
   "cell_type": "code",
   "execution_count": 131,
   "metadata": {},
   "outputs": [
    {
     "data": {
      "text/plain": [
       "683"
      ]
     },
     "execution_count": 131,
     "metadata": {},
     "output_type": "execute_result"
    }
   ],
   "source": [
    "len(cleanedData)"
   ]
  },
  {
   "cell_type": "code",
   "execution_count": 62,
   "metadata": {
    "collapsed": true
   },
   "outputs": [],
   "source": [
    "class Node:\n",
    "    def __init__(self,testAttr,predictedClass):\n",
    "        self.testAttr=testAttr\n",
    "        self.predictedClass=predictedClass\n",
    "        self.children={}\n",
    "    def __str__(self):\n",
    "        return self.testAttr\n",
    "def printTree(n):\n",
    "    print(n)\n",
    "    if len(n.children)==0:\n",
    "        return\n",
    "    print('children are:')\n",
    "    for k,v in n.children.items():\n",
    "        print(k,v)\n",
    "    for v in n.children.values():\n",
    "        printTree(v)"
   ]
  },
  {
   "cell_type": "code",
   "execution_count": 63,
   "metadata": {
    "collapsed": true
   },
   "outputs": [],
   "source": [
    "with open('breastAttr.txt','r') as f:\n",
    "    breastAttr=f.read()"
   ]
  },
  {
   "cell_type": "code",
   "execution_count": 64,
   "metadata": {
    "collapsed": true
   },
   "outputs": [],
   "source": [
    "s=breastAttr.split('\\n')"
   ]
  },
  {
   "cell_type": "code",
   "execution_count": 65,
   "metadata": {},
   "outputs": [
    {
     "data": {
      "text/plain": [
       "{'adhesion': ['1', '2', '3', '4', '5', '6', '7', '8', '9', '10'],\n",
       " 'barenuclei': ['1', '2', '3', '4', '5', '6', '7', '8', '9', '10'],\n",
       " 'bland': ['1', '2', '3', '4', '5', '6', '7', '8', '9', '10'],\n",
       " 'clump': ['1', '2', '3', '4', '5', '6', '7', '8', '9', '10'],\n",
       " 'epithelial': ['1', '2', '3', '4', '5', '6', '7', '8', '9', '10'],\n",
       " 'mitoses': ['1', '2', '3', '4', '5', '6', '7', '8', '9', '10'],\n",
       " 'normal': ['1', '2', '3', '4', '5', '6', '7', '8', '9', '10'],\n",
       " 'shape': ['1', '2', '3', '4', '5', '6', '7', '8', '9', '10'],\n",
       " 'size': ['1', '2', '3', '4', '5', '6', '7', '8', '9', '10']}"
      ]
     },
     "execution_count": 65,
     "metadata": {},
     "output_type": "execute_result"
    }
   ],
   "source": [
    "possVals"
   ]
  },
  {
   "cell_type": "code",
   "execution_count": 66,
   "metadata": {
    "collapsed": true
   },
   "outputs": [],
   "source": [
    "possVals={}\n",
    "for line in s:\n",
    "    temp=line.split(' ')\n",
    "    possVals[temp[0]]=temp[1].split(',')"
   ]
  },
  {
   "cell_type": "code",
   "execution_count": 67,
   "metadata": {
    "collapsed": true
   },
   "outputs": [],
   "source": [
    "possClassValues=[]\n",
    "with open('breastClass.txt','r') as f:\n",
    "    breastClass=f.read()\n",
    "classLine=breastClass.split(' ')\n",
    "className = classLine[0]\n",
    "possClassValues = classLine[1].split(',')"
   ]
  },
  {
   "cell_type": "code",
   "execution_count": 68,
   "metadata": {},
   "outputs": [
    {
     "data": {
      "text/plain": [
       "(['2', '4'], 'class')"
      ]
     },
     "execution_count": 68,
     "metadata": {},
     "output_type": "execute_result"
    }
   ],
   "source": [
    "possClassValues,className"
   ]
  },
  {
   "cell_type": "code",
   "execution_count": 69,
   "metadata": {
    "collapsed": true
   },
   "outputs": [],
   "source": [
    "prob={}"
   ]
  },
  {
   "cell_type": "code",
   "execution_count": 70,
   "metadata": {
    "collapsed": true
   },
   "outputs": [],
   "source": [
    "from collections import defaultdict\n",
    "from math import log2"
   ]
  },
  {
   "cell_type": "code",
   "execution_count": 71,
   "metadata": {
    "collapsed": true
   },
   "outputs": [],
   "source": [
    "def entropy(edata):\n",
    "    temp = defaultdict(int)\n",
    "    for eavpair in edata:\n",
    "        temp[eavpair[className]]+=1\n",
    "    en = len(edata)\n",
    "    e=1\n",
    "    for epv in temp.values():\n",
    "        e*=(epv/en)*log2(epv/en)\n",
    "    return e"
   ]
  },
  {
   "cell_type": "code",
   "execution_count": 149,
   "metadata": {
    "collapsed": true
   },
   "outputs": [],
   "source": [
    "from math import cos,sqrt,log2\n",
    "def balance(attrLen):\n",
    "    ans=cos(3.5*attrLen-1.5)/1.8\n",
    "    ans*=log2(sqrt(attrLen+1))\n",
    "    return abs(ans)"
   ]
  },
  {
   "cell_type": "code",
   "execution_count": 150,
   "metadata": {
    "collapsed": true
   },
   "outputs": [],
   "source": [
    "def train(trainData,attributes):\n",
    "    e = entropy(trainData)\n",
    "    info = {}\n",
    "    gain = {}\n",
    "    n = len(trainData)\n",
    "    for attr in attributes:\n",
    "        attrVals = possVals[attr]\n",
    "        attrTrainData = {}\n",
    "        attrTrainData = defaultdict(list)\n",
    "        for avpair in trainData:\n",
    "            attrTrainData[avpair[attr]].append(avpair)\n",
    "        info[attr] = 1\n",
    "        for attrVal in attrTrainData.values():\n",
    "            info[attr] += (len(attrVal)/n)*entropy(attrVal)\n",
    "            gain[attr] = (e-info[attr])/balance(len(attrVals))\n",
    "    maxAttr = attributes[0]\n",
    "    maxGain = gain[maxAttr]\n",
    "    for k,v in gain.items():\n",
    "        if maxGain < v:\n",
    "            maxGain = v\n",
    "            maxAttr = k\n",
    "    print('maxAttr is {0}'.format(maxAttr))"
   ]
  },
  {
   "cell_type": "code",
   "execution_count": 151,
   "metadata": {},
   "outputs": [
    {
     "name": "stdout",
     "output_type": "stream",
     "text": [
      "maxAttr is size\n"
     ]
    }
   ],
   "source": [
    "train(cleanedData,list(possVals.keys()))"
   ]
  },
  {
   "cell_type": "code",
   "execution_count": 163,
   "metadata": {
    "collapsed": true
   },
   "outputs": [],
   "source": [
    "def train(trainData,attributes):\n",
    "    e = entropy(trainData)\n",
    "    if e==0:\n",
    "        return Node('',trainData[0][className])\n",
    "    if len(attributes) == 0:\n",
    "        classCount = defaultdict(int)\n",
    "        for ex in trainData:\n",
    "            classCount[ex[className]] += 1\n",
    "        maxClass= possClassValues[0]\n",
    "        maxCount= classCount[maxClass]\n",
    "        for k,v in classCount.items():\n",
    "            if maxCount<v:\n",
    "                maxCount = v\n",
    "                maxClass = k\n",
    "        return Node('',maxClass)\n",
    "    info = {}\n",
    "    gain = {}\n",
    "    n = len(trainData)\n",
    "    for attr in attributes:\n",
    "        attrVals = possVals[attr]\n",
    "        attrTrainData = {}\n",
    "        attrTrainData = defaultdict(list)\n",
    "        for avpair in trainData:\n",
    "            attrTrainData[avpair[attr]].append(avpair)\n",
    "        info[attr] = 1\n",
    "        for attrVal in attrTrainData.values():\n",
    "            info[attr] += (len(attrVal)/n)*entropy(attrVal)\n",
    "            gain[attr] = (e-info[attr])/balance(len(attrVals))\n",
    "    maxAttr = attributes[0]\n",
    "    maxGain = gain[maxAttr]\n",
    "    for k,v in gain.items():\n",
    "        if maxGain < v:\n",
    "            maxGain = v\n",
    "            maxAttr = k\n",
    "    n=Node(maxAttr,'')\n",
    "    splitTrainData = defaultdict(list)\n",
    "    for ex in trainData:\n",
    "        splitTrainData[ex[maxAttr]].append(ex)\n",
    "    newAttrs = attributes[:]\n",
    "    newAttrs.remove(maxAttr)\n",
    "    for splitAttrVal, splitData in splitTrainData.items():\n",
    "        n.children[splitAttrVal]=train(splitData,newAttrs)\n",
    "    return n"
   ]
  },
  {
   "cell_type": "code",
   "execution_count": 164,
   "metadata": {},
   "outputs": [],
   "source": [
    "n=train(cleanedData[:200],list(possVals.keys()))"
   ]
  },
  {
   "cell_type": "code",
   "execution_count": 165,
   "metadata": {},
   "outputs": [
    {
     "name": "stdout",
     "output_type": "stream",
     "text": [
      "1 \n",
      "4 adhesion\n",
      "8 clump\n",
      "10 \n",
      "2 clump\n",
      "3 barenuclei\n",
      "5 \n",
      "6 \n",
      "7 \n",
      "9 \n"
     ]
    }
   ],
   "source": [
    "for k,v in n.children.items():\n",
    "    print(k,v)"
   ]
  },
  {
   "cell_type": "code",
   "execution_count": 166,
   "metadata": {
    "scrolled": true
   },
   "outputs": [],
   "source": [
    "def testing(n,ex):\n",
    "    while n.testAttr!='':\n",
    "        child=ex[n.testAttr]\n",
    "        n=n.children[child]\n",
    "    return n.predictedClass"
   ]
  },
  {
   "cell_type": "code",
   "execution_count": 167,
   "metadata": {},
   "outputs": [
    {
     "name": "stdout",
     "output_type": "stream",
     "text": [
      "2\n"
     ]
    }
   ],
   "source": [
    "print(testing(n,cleanedData[1]))"
   ]
  },
  {
   "cell_type": "code",
   "execution_count": 171,
   "metadata": {
    "collapsed": true
   },
   "outputs": [],
   "source": [
    "\n",
    "def testing1(n,trainData):\n",
    "    x=0\n",
    "    for ex in trainData:\n",
    "        p=n\n",
    "        try:\n",
    "            while p.testAttr!='':\n",
    "                child=ex[p.testAttr]\n",
    "                p=p.children[child]\n",
    "            print(p.predictedClass,ex[className])\n",
    "            if p.predictedClass==ex[className]:\n",
    "                x+=1\n",
    "        except:\n",
    "            oo=2\n",
    "    return x"
   ]
  },
  {
   "cell_type": "code",
   "execution_count": 172,
   "metadata": {},
   "outputs": [
    {
     "name": "stdout",
     "output_type": "stream",
     "text": [
      "2 2\n",
      "2 2\n",
      "2 2\n",
      "2 2\n",
      "2 2\n",
      "4 4\n",
      "4 4\n",
      "2 2\n",
      "2 2\n",
      "2 2\n",
      "2 2\n",
      "2 2\n",
      "2 2\n",
      "4 4\n",
      "2 2\n",
      "2 2\n",
      "2 2\n",
      "2 2\n",
      "2 2\n",
      "2 2\n",
      "2 2\n",
      "2 2\n",
      "2 2\n",
      "2 2\n",
      "2 2\n",
      "2 2\n",
      "2 2\n",
      "2 2\n",
      "4 4\n",
      "2 2\n",
      "2 2\n",
      "2 2\n",
      "2 2\n",
      "2 2\n",
      "2 2\n",
      "2 2\n",
      "2 2\n",
      "2 2\n",
      "2 2\n",
      "2 2\n",
      "2 2\n",
      "2 2\n",
      "2 2\n",
      "2 2\n",
      "2 2\n",
      "4 4\n",
      "2 2\n",
      "2 2\n",
      "4 4\n",
      "4 4\n",
      "4 4\n",
      "4 4\n",
      "2 2\n",
      "2 2\n",
      "4 4\n",
      "2 2\n",
      "2 2\n",
      "2 2\n",
      "2 2\n",
      "4 4\n",
      "4 4\n",
      "2 2\n",
      "2 2\n",
      "2 2\n",
      "4 4\n",
      "2 2\n",
      "4 4\n",
      "2 2\n",
      "4 4\n",
      "2 4\n",
      "4 4\n",
      "2 2\n",
      "2 2\n",
      "2 2\n",
      "2 2\n",
      "4 2\n",
      "2 2\n",
      "2 2\n",
      "2 2\n",
      "4 4\n",
      "4 4\n",
      "2 2\n",
      "2 2\n",
      "4 4\n",
      "2 2\n",
      "4 4\n",
      "4 4\n",
      "4 4\n",
      "2 2\n",
      "2 2\n",
      "2 2\n",
      "2 2\n",
      "2 2\n",
      "2 2\n",
      "2 2\n",
      "2 2\n",
      "4 2\n",
      "2 2\n",
      "2 2\n",
      "4 2\n",
      "4 4\n",
      "2 2\n",
      "2 2\n",
      "2 2\n",
      "2 2\n",
      "2 2\n",
      "2 2\n",
      "4 4\n",
      "2 2\n",
      "4 4\n",
      "4 2\n",
      "2 2\n",
      "2 2\n",
      "2 2\n",
      "2 2\n",
      "2 2\n",
      "2 2\n",
      "2 2\n",
      "2 2\n",
      "2 2\n",
      "2 2\n",
      "4 4\n",
      "2 2\n",
      "2 2\n",
      "2 2\n",
      "2 2\n",
      "2 2\n",
      "2 2\n",
      "2 2\n",
      "2 2\n",
      "4 2\n",
      "2 2\n",
      "2 2\n",
      "2 2\n",
      "2 2\n",
      "2 2\n",
      "2 2\n",
      "2 2\n",
      "2 2\n",
      "4 4\n",
      "4 4\n",
      "4 4\n",
      "2 2\n",
      "2 2\n",
      "2 2\n",
      "2 2\n",
      "2 2\n",
      "2 2\n",
      "2 2\n",
      "4 4\n",
      "4 4\n",
      "2 2\n",
      "2 2\n",
      "2 2\n",
      "2 2\n",
      "2 2\n",
      "2 2\n",
      "2 2\n",
      "2 2\n",
      "2 2\n",
      "4 4\n",
      "2 2\n",
      "2 2\n",
      "2 2\n",
      "2 2\n",
      "4 4\n",
      "4 4\n"
     ]
    }
   ],
   "source": [
    "x=testing1(n,cleanedData[501:])"
   ]
  },
  {
   "cell_type": "code",
   "execution_count": 173,
   "metadata": {},
   "outputs": [
    {
     "name": "stdout",
     "output_type": "stream",
     "text": [
      "161\n"
     ]
    }
   ],
   "source": [
    "print(x)"
   ]
  },
  {
   "cell_type": "code",
   "execution_count": 160,
   "metadata": {
    "collapsed": true
   },
   "outputs": [],
   "source": [
    "import math"
   ]
  },
  {
   "cell_type": "code",
   "execution_count": 148,
   "metadata": {},
   "outputs": [],
   "source": [
    "abs?"
   ]
  },
  {
   "cell_type": "code",
   "execution_count": null,
   "metadata": {
    "collapsed": true
   },
   "outputs": [],
   "source": []
  }
 ],
 "metadata": {
  "kernelspec": {
   "display_name": "Python 3",
   "language": "python",
   "name": "python3"
  },
  "language_info": {
   "codemirror_mode": {
    "name": "ipython",
    "version": 3
   },
   "file_extension": ".py",
   "mimetype": "text/x-python",
   "name": "python",
   "nbconvert_exporter": "python",
   "pygments_lexer": "ipython3",
   "version": "3.6.3"
  }
 },
 "nbformat": 4,
 "nbformat_minor": 2
}
